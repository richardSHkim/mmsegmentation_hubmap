{
 "cells": [
  {
   "cell_type": "code",
   "execution_count": 7,
   "metadata": {},
   "outputs": [],
   "source": [
    "import os"
   ]
  },
  {
   "cell_type": "code",
   "execution_count": 8,
   "metadata": {},
   "outputs": [],
   "source": [
    "with open('/data/train.txt', 'r') as f:\n",
    "    train_file_names = set([x.strip() for x in f.readlines()])\n",
    "with open('/data/val.txt', 'r') as f:\n",
    "    val_file_names = set([x.strip() for x in f.readlines()])"
   ]
  },
  {
   "cell_type": "code",
   "execution_count": 9,
   "metadata": {},
   "outputs": [],
   "source": [
    "train_split = open('/data/train_512tile.txt', 'w')\n",
    "val_split = open('/data/val_512tile.txt', 'w')\n",
    "for fname in os.listdir('/data/train_images_512tile'):\n",
    "    org_fname = fname.split('_')[0]\n",
    "    if  org_fname in train_file_names:\n",
    "        train_split.write(fname.split('.')[0]+'\\n')\n",
    "        continue\n",
    "    if org_fname in val_file_names:\n",
    "        val_split.write(fname.split('.')[0]+'\\n')\n",
    "        continue\n",
    "train_split.close()\n",
    "val_split.close()"
   ]
  }
 ],
 "metadata": {
  "kernelspec": {
   "display_name": "Python 3.8.12 ('base')",
   "language": "python",
   "name": "python3"
  },
  "language_info": {
   "codemirror_mode": {
    "name": "ipython",
    "version": 3
   },
   "file_extension": ".py",
   "mimetype": "text/x-python",
   "name": "python",
   "nbconvert_exporter": "python",
   "pygments_lexer": "ipython3",
   "version": "3.8.12"
  },
  "orig_nbformat": 4,
  "vscode": {
   "interpreter": {
    "hash": "d4d1e4263499bec80672ea0156c357c1ee493ec2b1c70f0acce89fc37c4a6abe"
   }
  }
 },
 "nbformat": 4,
 "nbformat_minor": 2
}
